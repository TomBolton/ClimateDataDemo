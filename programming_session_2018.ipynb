{
 "cells": [
  {
   "cell_type": "markdown",
   "metadata": {},
   "source": [
    "# DTP Summer School 2018: Programming Session, Thu 12th July\n",
    "\n",
    "![NERC Logo](files/nerc.jpg)\n",
    "\n",
    "### NOTE: Feel free to play around with the code, but please do not save the changes. Thanks.\n",
    "\n",
    "This is a jupyter notebook to illustrate scientific computing within the NERC DTP. A wide range of languages, tools, and computing resources are used by DTP students during their reasearch, but this session will demonstrate the following key concepts:\n",
    "\n",
    "* Cloud computing with Jupyter Notebooks.\n",
    "* Basic programming with Python.\n",
    "* Analysis of climate data.\n",
    "* Visualation of results.\n",
    "\n",
    "You will not need any prior experience of Python, or any other of the tools used here. You simply need to run the notebook in a web browser. \n",
    "\n",
    "### (NOTE: Feel free to play around with the code, but please do not save the changes. Thanks.)\n",
    "\n",
    "***\n",
    "\n",
    "## Jupyter Notebook Basics \n",
    "\n",
    "![Jupyter Logo](files/jupyter.png)\n",
    "\n",
    "Jupyter Notebooks = Python + Interactivity\n",
    "\n",
    "Jupyter notebooks are a great tool for presenting some python code, as well as the subsequent results from running the code. On top of that, you can easily go back and make changes to the code, re-run the notebook, and see how the output changes.\n",
    "\n",
    "Notebooks are made up of cells, which contains either text or code. You can execute all cells at once, or one at a time. Here we will go with the latter, and do one cell at a time. \n",
    "\n",
    "The command for executing a single cell is:\n",
    "\n",
    "SHIFT+ENTER\n",
    "\n",
    "Executing a cell with text (and not code) will do nothing and will simply move onto the next cell. Below is a cell with a single line of python, which will print some text; have a go a executing the cell with SHIFT+ENTER.\n"
   ]
  },
  {
   "cell_type": "code",
   "execution_count": null,
   "metadata": {
    "collapsed": false
   },
   "outputs": [],
   "source": [
    "print \"----------------------------------------------------------\\n\"\n",
    "print \"You've just run some python code on the cloud! \\n\"\n",
    "print \"The output is displayed below the code.\\n\"\n",
    "print \"The output can be text, images, or visualisations of data.\\n\"\n",
    "print \"----------------------------------------------------------\\n\"\n",
    "print \"Run by: BLAH BLAH BLAH\""
   ]
  },
  {
   "cell_type": "markdown",
   "metadata": {},
   "source": [
    "When we move on to executing more complicated cells, it may take a while for anything to happen. Do not fret - the python code can sometimes take a moment or two to execute in the cloud. When in doubt, look for the little circle in the top right corner next to 'Python 2': if it's empty, the computation is finished, whereas if it is a filled dark circle, then the cell is still being executed. \n",
    "\n",
    "You can go back and edit the code within cells. Try this out by clicking on the cell above with the python code in it (the one with the print statements), and changing BLAH BLAH BLAH to your name in the last night. Re-run the cell with SHIFT+ENTER.\n",
    "\n",
    "***\n",
    "\n",
    "\n",
    "## Quick Introduction to Python\n",
    "\n",
    "![Python Logo](files/python.svg)\n",
    "\n",
    "Python is a popular and versatile programming language. It is generally regarded as quite a 'nice' language to learn (compared to other languages such as C++), but has powerful packages available, particularly in data wrangling (Pandas), data visualisation (Matplotlib), handling numerical data (Numpy), and machine learning (Keras, Tensorflow).\n",
    "\n",
    "Let us begin by defining some variables and playing around with them."
   ]
  },
  {
   "cell_type": "code",
   "execution_count": null,
   "metadata": {
    "collapsed": false
   },
   "outputs": [],
   "source": [
    "# defining two variables 'a' and 'b', and assigning them values 7 and 4 respectively\n",
    "a = 7.0\n",
    "b = 4.0\n",
    "\n",
    "# multiply them together\n",
    "a*b"
   ]
  },
  {
   "cell_type": "code",
   "execution_count": null,
   "metadata": {
    "collapsed": false
   },
   "outputs": [],
   "source": [
    "# divide a by b\n",
    "a / b"
   ]
  },
  {
   "cell_type": "code",
   "execution_count": null,
   "metadata": {
    "collapsed": false
   },
   "outputs": [],
   "source": [
    "# remainder after dividing a by b\n",
    "a % b"
   ]
  },
  {
   "cell_type": "markdown",
   "metadata": {},
   "source": [
    "\n",
    "Once you start defining variables, you can write more complex functions to act on them. One of the most common lines of python code is the trusty 'for' loop. The structure of a for loop in python is the following:\n",
    "\n",
    "for X in Y :\n",
    "\n",
    "&nbsp;&nbsp;&nbsp;&nbsp;&nbsp;&nbsp;&nbsp;&nbsp;DO SOMETHING WITH X\n",
    "    \n",
    "The space before 'DO SOMETHING WITH X' is crucial. Space in tells python what code should be executed within the for loop. Consider the following for loop\n",
    "\n",
    "for X in Y: \n",
    "\n",
    "&nbsp;&nbsp;&nbsp;&nbsp;&nbsp;&nbsp;&nbsp;&nbsp;DO TASK 1\n",
    "\n",
    "&nbsp;&nbsp;&nbsp;&nbsp;&nbsp;&nbsp;&nbsp;&nbsp;DO TASK 2\n",
    "    \n",
    "DO TASK 3\n",
    "\n",
    "The first two tasks with spaces before them (also known as indentation), will be carried out within the for loop. Whereas the line 'DO TASK 3' does not have the same indentation, so will not be carried out within the for loop. Note that all lines within a for loop *must* have the same indentation, otherwise you'll get an error. This white space/indentation rule also applies to other statements such as 'while' and 'if'.\n",
    "\n",
    "We will now use a for loop to print out all the integers up to 20."
   ]
  },
  {
   "cell_type": "code",
   "execution_count": null,
   "metadata": {
    "collapsed": false
   },
   "outputs": [],
   "source": [
    "# looping through all integers from 0 to 20\n",
    "for n in range(21) :\n",
    "    print n"
   ]
  },
  {
   "cell_type": "markdown",
   "metadata": {},
   "source": [
    "Ta da! Here we have used the 'range' function, which produces a list of integers (not including the final number). The 'range' function is called the iterable (the thing we're looping over), but we can loop over other iterables as well. For example, we can write a list of animal names and loop through them all."
   ]
  },
  {
   "cell_type": "code",
   "execution_count": null,
   "metadata": {
    "collapsed": false
   },
   "outputs": [],
   "source": [
    "# write a list of names\n",
    "myList = [  'cat', 'dog', 'rabbit', 'red panda', 'naked mole rat' ]\n",
    "\n",
    "for animal in myList :\n",
    "    print animal"
   ]
  },
  {
   "cell_type": "markdown",
   "metadata": {},
   "source": [
    "In the above cell, we wrote a string for each animal name. Python views strings as simply a list of letters, so we can loop over those too."
   ]
  },
  {
   "cell_type": "code",
   "execution_count": null,
   "metadata": {
    "collapsed": false
   },
   "outputs": [],
   "source": [
    "myString = 'naked mole rat'\n",
    "\n",
    "for letter in myString :\n",
    "    print letter"
   ]
  },
  {
   "cell_type": "markdown",
   "metadata": {},
   "source": [
    "You can combine two strings by simply using the + symbol, shown below."
   ]
  },
  {
   "cell_type": "code",
   "execution_count": null,
   "metadata": {
    "collapsed": false
   },
   "outputs": [],
   "source": [
    "for n in range(21) :\n",
    "    \n",
    "    string1 = 'The current number is '\n",
    "    string2 = str(n)\n",
    "    \n",
    "    string3 = string1 + string2\n",
    "    \n",
    "    print string3"
   ]
  },
  {
   "cell_type": "markdown",
   "metadata": {},
   "source": [
    "***\n",
    "\n",
    "## Analysing Climate Data\n",
    "\n",
    "We're now going to load in some climate data and do a bit of analysis. Don't worry if you don't understand every function/line of code; the main aim is to show some of the things you can do with python. \n",
    "\n",
    "![ECMWF Logo](files/ecmwf.svg)\n",
    "\n",
    "The data we're going to use is surface air temperature from the ERA-Interim Reanalysis product from ECMWF. 'Reanalysis' means that the dataset is a combination of observations and model output. The ERA-Interim dataset is a respected source of data and is regarded as one of the most accurate representations of previous weather and climate. The data is monthly averages of global surface air temperature, from 1979 to 2017.\n",
    "\n",
    "### Loading in Surface Air Temperature Data\n",
    "\n",
    "Let's load in the data from a netcdf (.nc) file."
   ]
  },
  {
   "cell_type": "code",
   "execution_count": null,
   "metadata": {
    "collapsed": false
   },
   "outputs": [],
   "source": [
    "# import all the packages we need\n",
    "%matplotlib inline\n",
    "import numpy as np\n",
    "import matplotlib.pyplot as plt\n",
    "from scipy.io import netcdf\n",
    "\n",
    "# read data from the .nc file located in the folder called 'data'\n",
    "dataFile  = netcdf.NetCDFFile('data/atlantic_monthly_surface_temp.nc','r')\n",
    "\n",
    "temperature = dataFile.variables['2T_GDS4_SFC_S123'] # load temperature data\n",
    "\n",
    "# convert to array and flip y dimension\n",
    "temperature = np.flip( temperature[:]*1, axis=1 )\n",
    "\n",
    "# convert from Kevlin to Celcius\n",
    "temperature = temperature - 273.15\n",
    "\n",
    "# the above arrays have three dimensions: (time,x,y)\n",
    "print \"Temperature data dimensions: ( months, lon, lat ) = \", temperature.shape, \"\\n\"\n",
    "print \"Number of months of data: \", temperature.shape[0]\n",
    "print \"Number of points in x direction: \", temperature.shape[2]\n",
    "print \"Number of points in y directions: \", temperature.shape[1]\n"
   ]
  },
  {
   "cell_type": "markdown",
   "metadata": {},
   "source": [
    "### Visualisation: Average Surface Temperature\n",
    "\n",
    "We're now going to average the surface temperature values in time, and then plot the resulting spatial map."
   ]
  },
  {
   "cell_type": "code",
   "execution_count": null,
   "metadata": {
    "collapsed": false
   },
   "outputs": [],
   "source": [
    "# calculate the time-mean using numpy\n",
    "tempTimeMean = np.mean( temperature, axis=0 )\n",
    "\n",
    "longitude = np.linspace(-96,22,168)\n",
    "latitude = np.linspace(8,66,83)\n",
    "\n",
    "# plot the time-mean using matplotlib\n",
    "plt.pcolor( longitude, latitude, tempTimeMean, cmap='magma' )\n",
    "\n",
    "plt.title('Time-Mean Surface Air\\nTemperature Between 1979-2017')\n",
    "plt.xlabel('Longitude')\n",
    "plt.ylabel('Latitude')\n",
    "plt.xticks( range(-90,30,15), ['90W','75W','60W','45W','30W','15W','0W','15E'])\n",
    "plt.yticks( range(10,70,10), ['10N','20N','30N','40N','50N','60N'])\n",
    "\n",
    "# annotate London and New York\n",
    "x0, y0 = -0.127, 51.5  \n",
    "x1, y1 = -74.0, 40.7\n",
    "plt.plot( x0, y0, 'ow' )\n",
    "plt.plot( x1, y1, 'ow')\n",
    "plt.text( x0+2, y0, 'London', color='white' )\n",
    "plt.text( x1+2, y1, 'New York', color='white')\n",
    "\n",
    "# add a colorbar\n",
    "cBar = plt.colorbar( orientation='horizontal', label='Temperature (degrees C)' )\n",
    "labels = cBar.ax.set_xticklabels( ['-20\\n(freezing)','-10', '0', '10', '20', '30\\n(scorching)'])\n"
   ]
  },
  {
   "cell_type": "markdown",
   "metadata": {
    "collapsed": true
   },
   "source": [
    "The above plot is the time-mean surface temperature for a region over the North Atlantic ocean. You can just about make out the outline of the continents, including the UK in the top-right corner. Note that although the UK sits at a similar latitude to Canada, the UK is significantly warmer - this is primarily due to the Gulf Stream.\n",
    "\n",
    "### Visualation: Temperature Time Series\n",
    "\n",
    "We've plotted the *average* temperature, but we now want to look at how the temperature varies in time. We're going to plot the surface air temperature for the two cities labelled above: New York and London."
   ]
  },
  {
   "cell_type": "code",
   "execution_count": null,
   "metadata": {
    "collapsed": false
   },
   "outputs": [],
   "source": [
    "# define vector of time values\n",
    "years = np.linspace(1979,2018+1.0/12,468)\n",
    "\n",
    "# extract temperature data for our two cities\n",
    "# (closest grid point to London)\n",
    "lon0 = ( np.abs( longitude - x0 ) ).argmin()\n",
    "lat0 = ( np.abs( latitude - y0 ) ).argmin()\n",
    "\n",
    "# (closest grid point to New York)\n",
    "lon1 = ( np.abs( longitude - x1 ) ).argmin()\n",
    "lat1 = ( np.abs( latitude - y1 ) ).argmin()\n",
    "\n",
    "tempLondon = temperature[:,lat0,lon0]\n",
    "tempNewYork = temperature[:,lat1,lon1]\n",
    "\n",
    "# plot the time series\n",
    "plt.figure( figsize=(14, 4))\n",
    "plt.plot( years, tempLondon, label='London')\n",
    "plt.plot( years, tempNewYork, label='New York')\n",
    "\n",
    "# tidy up figure\n",
    "plt.title('Monthly Surface Air Temperature')\n",
    "plt.xlabel('Time (years)')\n",
    "plt.ylabel('Temperature (degrees C)')\n",
    "plt.xlim( (years[0],years[-1]) )\n",
    "plt.ylim( (-10,30))\n",
    "ax = plt.gca()\n",
    "ax.yaxis.grid()\n",
    "hLeg = plt.legend( shadow=True )\n"
   ]
  },
  {
   "cell_type": "markdown",
   "metadata": {},
   "source": [
    "Interestingly, both London and New York have similar mean temperatures, but New York has larger extremes: the summers are hotter, and the winters colder. As we are plotting monthly data, there is a strong seasonal cycle in the temperature data - let's remove this seasonal cycle now."
   ]
  },
  {
   "cell_type": "code",
   "execution_count": null,
   "metadata": {
    "collapsed": false
   },
   "outputs": [],
   "source": [
    "# calculate the average temperature for each month\n",
    "seasCycleLondon = np.zeros( (12,) )\n",
    "seasCycleNewYork = np.zeros( (12,) )\n",
    "\n",
    "# loop through each value in the time series, and store\n",
    "# the temperature value for that month\n",
    "for t in range(468) :\n",
    "    \n",
    "    seasCycleLondon[ t % 12 ] += tempLondon[t]\n",
    "    seasCycleNewYork[ t % 12 ] += tempNewYork[t]\n",
    "    \n",
    "# divide the temperature by 39 years to get the average\n",
    "seasCycleLondon /= 39\n",
    "seasCycleNewYork /= 39\n",
    "\n",
    "# plot the seasonal cycles\n",
    "plt.figure( figsize=(9, 4))\n",
    "plt.plot( range(12), seasCycleLondon, label='London', lw=2.5)\n",
    "plt.plot( range(12), seasCycleNewYork, label='New York', lw=2.5 )\n",
    "\n",
    "# tidy up figure\n",
    "plt.title('Surface Air Temperature Seasonal Cycle')\n",
    "plt.xlabel('Time (month)')\n",
    "plt.ylabel('Temperature (degrees C)')\n",
    "plt.xlim( (0,11) )\n",
    "plt.ylim( (-10,30))\n",
    "plt.xticks( range(12), ['Jan','Feb','Mar','Apr','May','Jun','Jul','Aug','Sep','Oct','Nov','Dec'])\n",
    "ax = plt.gca()\n",
    "ax.yaxis.grid()\n",
    "hLeg = plt.legend( shadow=True )\n"
   ]
  },
  {
   "cell_type": "markdown",
   "metadata": {},
   "source": [
    "This confirms our observation: New York (the orange curve) has larger temperature extremes compared to London. We will now remove this seasonal cycle from our two time series."
   ]
  },
  {
   "cell_type": "code",
   "execution_count": null,
   "metadata": {
    "collapsed": false
   },
   "outputs": [],
   "source": [
    "# remove the seasonal cycle from our original temperature\n",
    "# time series for New York and London\n",
    "tempLondonB = tempLondon - np.tile( seasCycleLondon, 39 )\n",
    "tempNewYorkB = tempNewYork - np.tile( seasCycleNewYork, 39 )\n",
    "\n",
    "# plot the time series\n",
    "plt.figure( figsize=(14, 4))\n",
    "plt.plot( years, tempLondonB, label='London')\n",
    "plt.plot( years, tempNewYorkB, label='New York')\n",
    "\n",
    "# tidy up figure\n",
    "plt.title('Monthly Surface Air Temperature (with Seasonal Cycle Removed)')\n",
    "plt.xlabel('Time (years)')\n",
    "plt.ylabel('Temperature Anomaly (degrees C)')\n",
    "plt.xlim( (years[0],years[-1]) )\n",
    "ax = plt.gca()\n",
    "ax.yaxis.grid()\n",
    "hLeg = plt.legend( shadow=True )\n",
    "\n",
    "# annotate\n",
    "plt.text( 1990.5, -7.5, \"New York's 2nd coldest\\nwinter on record.\")\n",
    "plt.plot( 1989.95, -7.1, 'ko' )\n"
   ]
  },
  {
   "cell_type": "markdown",
   "metadata": {},
   "source": [
    "We can now more easily see any deviations from the climatology. In particular, we can see a particularly cold winter for New York at 1990, which turns out to be the 2nd coldest winter on record, with an average December temperature of nearly -8C.\n",
    "\n",
    "Are temperatures rising in these two cities? The monthly anomalies make it difficult to dicern any long term trend in the data. There are numerous ways of extracting a long term trend, but here we're simply going to temporal smooth the data over a certain length window; this will remove the monthly fluctuations."
   ]
  },
  {
   "cell_type": "code",
   "execution_count": null,
   "metadata": {
    "collapsed": false
   },
   "outputs": [],
   "source": [
    "# smoothing window size (in months)\n",
    "win = 24\n",
    "\n",
    "# make new vectors for the smoothed time series\n",
    "tempLondonC = np.zeros( (468-win,) )\n",
    "tempNewYorkC = np.zeros( (468-win,) )\n",
    "\n",
    "# loop through each point in time, and average \n",
    "# over a window\n",
    "for t in range(468-win) :\n",
    "    \n",
    "    tempLondonC[t] = np.mean( tempLondonB[t:t+win])\n",
    "    tempNewYorkC[t] = np.mean( tempNewYorkB[t:t+win] )\n",
    "    \n",
    "yearsNew = years[win/2:-win/2]\n",
    "\n",
    "# plot the smoothed time-series\n",
    "# plot the time series\n",
    "plt.figure( figsize=(14, 4))\n",
    "plt.plot( yearsNew, tempLondonC, label='London')\n",
    "plt.plot( yearsNew, tempNewYorkC, label='New York')\n",
    "\n",
    "# tidy up figure\n",
    "plt.title('Monthly Surface Air Temperature Anomaly ('+str(win)+'-Month Smoothing)')\n",
    "plt.xlabel('Time (years)')\n",
    "plt.ylabel('Temperature Anomaly (degrees C)')\n",
    "plt.xlim( (yearsNew[0],yearsNew[-1]) )\n",
    "ax = plt.gca()\n",
    "ax.yaxis.grid()\n",
    "hLeg = plt.legend( shadow=True )\n"
   ]
  },
  {
   "cell_type": "markdown",
   "metadata": {},
   "source": [
    "We're starting to see a positive trend! I wonder what's causing temperatures to rise... Must be  ~~a hoax created by China~~ climate change.\n",
    "\n",
    "(Optional: try changing the variable called 'win', the width of the smoothing window, to different values such as 12, 48, 96 months, and then re-run the cell. See how the various values change the above time series. Does the long-term trend become more or less apparent?)"
   ]
  },
  {
   "cell_type": "markdown",
   "metadata": {},
   "source": [
    "***\n",
    "\n",
    "## Ocean Chlorophyll Concentration\n",
    "\n",
    "![NASA Logo](files/nasa.jpeg)\n",
    "\n",
    "Quantities such as surface air temperature are important, but satellite observations now provide measurements of numerous quantities in the ocean as well, including sea-surface temperature, sea-surface height, ocean current speed, salt concentration, and ice cover. Here, we're going to examine observations of chlorophyll concentration. \n",
    "\n",
    "In particular we're going to use observations generated by the Moderate Resolution Imaging Spectroradiometer (MODIS) instrument aboard NASA's Terra and Aqua satellites, which provides global estimates of chlorophyll-a. We're going to load in the most recent data, which is for May 2018.\n",
    "\n",
    "### Loading Chlorophyll Data\n",
    "\n",
    "As before, we are going to use python to load in the data, but this time from a matlab file (.mat).\n"
   ]
  },
  {
   "cell_type": "code",
   "execution_count": null,
   "metadata": {
    "collapsed": false
   },
   "outputs": [],
   "source": [
    "from scipy.io import loadmat\n",
    "\n",
    "# read data from data/nasa_chlor_a_may_2018_4km.mat\n",
    "data  = loadmat('data/nasa_chlor_a_may_2018_4km.mat')\n",
    "\n",
    "chlor_a = data['chlor_a'].T # load chlorophyll data\n",
    "\n",
    "# the above array has dimensions: (x,y)\n",
    "print \"We have now loaded a map of chlorophyll concentration for May 2018.\\n\"\n",
    "print \"Chlorophyll data dimensions: ( lon, lat ) = \", chlor_a.shape, \"\\n\"\n",
    "print \"Number of points in x direction: \", chlor_a.shape[1]\n",
    "print \"Number of points in y directions: \", chlor_a.shape[0]"
   ]
  },
  {
   "cell_type": "markdown",
   "metadata": {
    "collapsed": true
   },
   "source": [
    "### Visualation: Global Chlorophyll May 2018\n",
    "\n",
    "Let's examine the data by plotting a spatial map, as we did with the average surface air temperature."
   ]
  },
  {
   "cell_type": "code",
   "execution_count": null,
   "metadata": {
    "collapsed": false
   },
   "outputs": [],
   "source": [
    "import matplotlib.cm\n",
    "\n",
    "# make masked array\n",
    "masked_chlor_a = np.ma.array( np.log10( chlor_a ), mask=np.isnan( chlor_a ) )\n",
    "cMap = matplotlib.cm.viridis\n",
    "cMap.set_bad('black',1.)\n",
    "\n",
    "# plot the spatial map of chlorophyll\n",
    "plt.figure( figsize=(15,7.5) )\n",
    "plt.imshow( masked_chlor_a, cmap=cMap, vmin=-2.2, vmax=1.3 )\n",
    "\n",
    "plt.title('Satellite Observation of May 2018 Chlorophyll-a Concentration')\n",
    "plt.xlabel('Longitude')\n",
    "plt.ylabel('Latitude')\n",
    "plt.yticks( [0,432/2,431], ['90N','0N','90S'])\n",
    "plt.xticks( [0,432/2,432,432*3/2,863], ['180W','90W','0E','90E','180E'] )\n",
    "\n",
    "# add a colorbar\n",
    "cBar = plt.colorbar( orientation='horizontal', label='Concentration (mg/m3)', ticks=[-2,-1,0,1] )\n",
    "labels = cBar.ax.set_xticklabels( ['0.01','0.1','1','10'] )"
   ]
  },
  {
   "cell_type": "markdown",
   "metadata": {},
   "source": [
    "We see significantly more chlorophyll in the Northern hemisphere, due to it currently being winter in the southern hemisphere. We also see a lot of regional variation, which will partially be driven by the local oceanic currents. Let's look at two important current systems: the Gulf Stream in the North Atlantic and the Kuroshio Extension in the Pacific."
   ]
  },
  {
   "cell_type": "code",
   "execution_count": null,
   "metadata": {
    "collapsed": false
   },
   "outputs": [],
   "source": [
    "# extract chlorophyll data for each region\n",
    "cGS = data['cGS'].T\n",
    "cKE = data['cKE'].T\n",
    "\n",
    "# make new masked arrays for each region\n",
    "cGS_m = np.ma.array( np.log10( cGS ), mask=np.isnan( cGS ) )\n",
    "cKE_m = np.ma.array( np.log10( cKE ), mask=np.isnan( cKE ) )\n",
    "\n",
    "# make subplots\n",
    "fig, (ax0,ax1) = plt.subplots(2,1,figsize=(15,12))\n",
    "\n",
    "cMin, cMax = -1.5, 1.5\n",
    "\n",
    "# plot Gulf Stream\n",
    "im0 = ax0.imshow( cGS_m, cmap=cMap, vmin=cMin, vmax=cMax )\n",
    "cBar = plt.colorbar( im0, ax=ax0, ticks=[-1,0,1], label='Concentration (mg/m3)' )\n",
    "labels = cBar.ax.set_yticklabels( [0.1,1,10] )\n",
    "ax0.set_title('Chlorophyll-a Concentration: Gulf Stream')\n",
    "ax0.set_xticks( [] )\n",
    "ax0.set_yticks( [] )\n",
    "\n",
    "# plot Kuroshio Extension\n",
    "im1 = ax1.imshow( cKE_m, cmap=cMap, vmin=cMin, vmax=cMax )\n",
    "cBar = plt.colorbar( im1, ax=ax1, ticks=[-1, 0, 1], label='Concentration (mg/m3)' )\n",
    "labels = cBar.ax.set_yticklabels( [0.1,1,10] )\n",
    "ax1.set_title('Chlorophyll-a Concentration: Kuroshio Extension')\n",
    "ax1.set_xticks( [] )\n",
    "ax1.set_yticks( [] )\n"
   ]
  },
  {
   "cell_type": "markdown",
   "metadata": {},
   "source": [
    "Both the Gulf Stream and Kuroshio Extension are known as western boundary currents, and are among some of the strongest currents in the ocean (only the ACC in the Southern ocean has a larger volume transport). The strong west-to-east currents of both these systems stops chlorophyll being mixed in the north-south direction; this causes there to be a sharp divide between high values above the currents, and low chlorophyll values below the currents. This phenomena is called a \"mixing barrier\" and has important implications, not only for biological systems but for climate as a whole. \n",
    "\n",
    "We can look at the same maps of sea surface temperature (SST) for May 2018, to compare with chlorophyll. The SST data is also measured by the MODIS satellite, and is saved in the file called 'nasa_sst_may_2018.mat'. Let's now make the same Gulf Stream and Kuroshio Extension plots with SST."
   ]
  },
  {
   "cell_type": "code",
   "execution_count": null,
   "metadata": {
    "collapsed": false
   },
   "outputs": [],
   "source": [
    "# load SST data\n",
    "data  = loadmat('data/nasa_sst_may_2018.mat')\n",
    "\n",
    "# extract chlorophyll data for each region\n",
    "sstGS = data['sstGS'].T\n",
    "sstKE = data['sstKE'].T\n",
    "\n",
    "# make new masked arrays for each region\n",
    "sstGS_m = np.ma.array( sstGS, mask=np.isnan( sstGS ) )\n",
    "sstKE_m = np.ma.array( sstKE, mask=np.isnan( sstKE ) )\n",
    "\n",
    "cMap = matplotlib.cm.inferno\n",
    "cMap.set_bad('black',1.)\n",
    "\n",
    "# make subplots\n",
    "fig, (ax0,ax1) = plt.subplots(2,1,figsize=(15,12))\n",
    "\n",
    "#cMin, cMax = -1.5, 1.5\n",
    "\n",
    "# plot Gulf Stream\n",
    "im0 = ax0.imshow( sstGS_m, cmap=cMap, vmin=-1, vmax=28 )\n",
    "cBar = plt.colorbar( im0, ax=ax0, label='Temperature (C)' )\n",
    "#labels = cBar.ax.set_yticklabels( [0.1,1,10] )\n",
    "ax0.set_title('Gulf Stream SST May 2018')\n",
    "ax0.set_xticks( [] )\n",
    "ax0.set_yticks( [] )\n",
    "\n",
    "# plot Kuroshio Extension\n",
    "im1 = ax1.imshow( sstKE_m, cmap=cMap, vmin=-1, vmax=28 )\n",
    "cBar = plt.colorbar( im1, ax=ax1, label='Concentration (C)' )\n",
    "#labels = cBar.ax.set_yticklabels( [0.1,1,10] )\n",
    "ax1.set_title('Kuroshio Extension SST May 2018')\n",
    "ax1.set_xticks( [] )\n",
    "ax1.set_yticks( [] )"
   ]
  },
  {
   "cell_type": "markdown",
   "metadata": {},
   "source": [
    "We don't see as much of a north-south divide compared to chlorophyll, but you can still see some of the currents acting within the SST field. Also, SST behaves very different compared to chlorophyll, due to significant effects such as ocean-atmosphere interactions, whereas chlorophyll behaves almost as a passive tracer (like adding food coloring to water).\n",
    "\n",
    "### Summary\n",
    "\n",
    "I hope you have enjoyed this brief tour of jupyter notebooks, python, and data analysis. If you want to look at the python code in your own time, the notebook (including the data) can be found in the following github repo:\n",
    "\n",
    "https://github.com/TomBolton/ClimateDataDemo\n"
   ]
  },
  {
   "cell_type": "code",
   "execution_count": null,
   "metadata": {
    "collapsed": true
   },
   "outputs": [],
   "source": []
  }
 ],
 "metadata": {
  "kernelspec": {
   "display_name": "Python 2",
   "language": "python",
   "name": "python2"
  },
  "language_info": {
   "codemirror_mode": {
    "name": "ipython",
    "version": 2
   },
   "file_extension": ".py",
   "mimetype": "text/x-python",
   "name": "python",
   "nbconvert_exporter": "python",
   "pygments_lexer": "ipython2",
   "version": "2.7.13"
  }
 },
 "nbformat": 4,
 "nbformat_minor": 2
}
